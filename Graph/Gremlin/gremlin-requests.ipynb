{
 "cells": [
  {
   "cell_type": "code",
   "execution_count": 1,
   "metadata": {},
   "outputs": [],
   "source": [
    "import requests\n",
    "import json"
   ]
  },
  {
   "cell_type": "code",
   "execution_count": 2,
   "metadata": {},
   "outputs": [],
   "source": [
    "url = \"http://192.168.1.52:8182\"    # URL of janusgraph/gremlin server\n",
    "username = \"user1234\"           \n",
    "password = \"pass1234\"\n",
    "query = 'g.V().range(0,10).count()'   # gremlin query: count of the first 10 nodes stored in janusgraph database"
   ]
  },
  {
   "cell_type": "code",
   "execution_count": 3,
   "metadata": {},
   "outputs": [
    {
     "name": "stdout",
     "output_type": "stream",
     "text": [
      "200\n",
      "True\n"
     ]
    }
   ],
   "source": [
    "resp = requests.post(url, auth = (username, password), json = {'gremlin' : query})\n",
    "print (resp.status_code)   # 200 = OK!\n",
    "print (resp.ok)            # true = OK!"
   ]
  },
  {
   "cell_type": "code",
   "execution_count": 4,
   "metadata": {},
   "outputs": [
    {
     "name": "stdout",
     "output_type": "stream",
     "text": [
      "#<resj>:\n",
      " {'requestId': 'e2614b03-2c1f-4c8f-b3d3-8602ed2f6166', 'status': {'message': '', 'code': 200, 'attributes': {'@type': 'g:Map', '@value': []}}, 'result': {'data': {'@type': 'g:List', '@value': [{'@type': 'g:Int64', '@value': 10}]}, 'meta': {'@type': 'g:Map', '@value': []}}} \n",
      "\n",
      "#<resj.keys()>:\n",
      " dict_keys(['requestId', 'status', 'result']) \n",
      "\n",
      "#<resj.items()>:\n",
      " dict_items([('requestId', 'e2614b03-2c1f-4c8f-b3d3-8602ed2f6166'), ('status', {'message': '', 'code': 200, 'attributes': {'@type': 'g:Map', '@value': []}}), ('result', {'data': {'@type': 'g:List', '@value': [{'@type': 'g:Int64', '@value': 10}]}, 'meta': {'@type': 'g:Map', '@value': []}})]) \n",
      "\n"
     ]
    }
   ],
   "source": [
    "resj = resp.json()   # get the response of server in JSON format\n",
    "print ('#<resj>:\\n', resj, '\\n')\n",
    "print ('#<resj.keys()>:\\n', resj.keys(), '\\n')\n",
    "print ('#<resj.items()>:\\n', resj.items(), '\\n')"
   ]
  },
  {
   "cell_type": "code",
   "execution_count": 5,
   "metadata": {},
   "outputs": [
    {
     "name": "stdout",
     "output_type": "stream",
     "text": [
      "count = 10\n"
     ]
    }
   ],
   "source": [
    "value = resj['result']['data']['@value'][0]['@value']\n",
    "print ('count =',value)"
   ]
  }
 ],
 "metadata": {
  "kernelspec": {
   "display_name": "Python 3",
   "language": "python",
   "name": "python3"
  },
  "language_info": {
   "codemirror_mode": {
    "name": "ipython",
    "version": 3
   },
   "file_extension": ".py",
   "mimetype": "text/x-python",
   "name": "python",
   "nbconvert_exporter": "python",
   "pygments_lexer": "ipython3",
   "version": "3.7.6"
  }
 },
 "nbformat": 4,
 "nbformat_minor": 4
}
