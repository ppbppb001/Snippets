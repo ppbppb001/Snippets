{
 "cells": [
  {
   "cell_type": "code",
   "execution_count": 1,
   "metadata": {},
   "outputs": [],
   "source": [
    "import time\n",
    "\n",
    "# --- Import Gremlin-Python modules ---\n",
    "import gremlin_python\n",
    "import gremlin_python.driver.serializer as se\n",
    "from gremlin_python.driver.driver_remote_connection import DriverRemoteConnection\n",
    "from gremlin_python.driver.client import Client\n",
    "from gremlin_python.driver.serializer import GraphSONSerializersV2d0\n",
    "from gremlin_python import statics\n",
    "from gremlin_python.structure.graph import Graph\n",
    "from gremlin_python.process.anonymous_traversal import traversal\n",
    "from gremlin_python.process.graph_traversal import __\n",
    "from gremlin_python.process.strategies import *\n",
    "from gremlin_python.process.traversal import T\n",
    "from gremlin_python.process.traversal import Order\n",
    "from gremlin_python.process.traversal import Cardinality\n",
    "from gremlin_python.process.traversal import Column\n",
    "from gremlin_python.process.traversal import Direction\n",
    "from gremlin_python.process.traversal import Operator\n",
    "from gremlin_python.process.traversal import P\n",
    "from gremlin_python.process.traversal import Pop\n",
    "from gremlin_python.process.traversal import Scope\n",
    "from gremlin_python.process.traversal import Barrier\n",
    "from gremlin_python.process.traversal import Bindings\n",
    "from gremlin_python.process.traversal import WithOptions\n",
    "# ---------------------------------------"
   ]
  },
  {
   "cell_type": "code",
   "execution_count": 2,
   "metadata": {},
   "outputs": [],
   "source": [
    "# Function: check response message from gremlin server\n",
    "# return: (flag, result_list).\n",
    "#          if successed, flag == True and result_list holds the message/data if available.\n",
    "#          if failed, flag == False and result_list holds the raised error message.\n",
    "def CheckResult(result):\n",
    "    if result is not None:\n",
    "        i = 0\n",
    "        while result.done.running():\n",
    "            time.sleep(0.1)\n",
    "            i +=1\n",
    "#             print (i)\n",
    "            if i>300:\n",
    "                break\n",
    "\n",
    "        a = result.all()\n",
    "        s = str(a)\n",
    "        ss= s.lower()\n",
    "        if 'finished' in ss:\n",
    "            if 'error' in ss:\n",
    "                return False, [s]\n",
    "            else:\n",
    "                return True, a.result()\n",
    "        else:\n",
    "            return False, [s]\n",
    "    else:\n",
    "        return False, []"
   ]
  },
  {
   "cell_type": "code",
   "execution_count": null,
   "metadata": {},
   "outputs": [],
   "source": [
    "# ****************************************************\n",
    "#  Connect to gremlin server\n",
    "# ****************************************************"
   ]
  },
  {
   "cell_type": "code",
   "execution_count": 3,
   "metadata": {},
   "outputs": [
    {
     "name": "stdout",
     "output_type": "stream",
     "text": [
      "<gremlin_python.driver.client.Client object at 0x000001B7B2BBCC50>\n"
     ]
    }
   ],
   "source": [
    "# --- Create client to do low-level operations with gremlin server ---\n",
    "client = Client(\"ws://192.168.1.52:8182/gremlin\",    # URL of gremlin server (janusgraph application interface)\n",
    "                \"g\",                                 # name of traversal object\n",
    "                username=\"\",                         # username to access Janusgraph\n",
    "                password=\"\")                         # password to access Janusgraph\n",
    "print (client)"
   ]
  },
  {
   "cell_type": "code",
   "execution_count": 4,
   "metadata": {},
   "outputs": [
    {
     "name": "stdout",
     "output_type": "stream",
     "text": [
      "True\n",
      "Version of gremlin server is  ['3.3.3']\n"
     ]
    }
   ],
   "source": [
    "res = client.submit('Gremlin.version()')\n",
    "f,x = CheckResult(res)\n",
    "print (f)\n",
    "print ('Version of gremlin server is ',x)"
   ]
  },
  {
   "cell_type": "code",
   "execution_count": null,
   "metadata": {},
   "outputs": [],
   "source": []
  },
  {
   "cell_type": "code",
   "execution_count": null,
   "metadata": {},
   "outputs": [],
   "source": [
    "# ****************************************************\n",
    "#  Create a new graph property with Janusgraph\n",
    "# ****************************************************"
   ]
  },
  {
   "cell_type": "code",
   "execution_count": null,
   "metadata": {},
   "outputs": [],
   "source": [
    "# --- Create graph on the remote gremlin server: ---\n",
    "# res = client.submit(\"graph = TinkerGraph.open()\")                  # with Gremlin Server\n",
    "# res = client.submit(\"graph = JanusGraphFactory.open('inmemory')\")  # with JanusGraph\n",
    "# CheckResult(res)     # Ignore the 'rasised GremlinServerError' message and go ahead"
   ]
  },
  {
   "cell_type": "code",
   "execution_count": null,
   "metadata": {},
   "outputs": [],
   "source": [
    "# --- launch an operation of loading graphml data file on remote server: ---\n",
    "# res = client.submit(\"graph.io(graphml()).readGraph('c:/datatools/~test/air-routes.graphml')\")\n",
    "# CheckResult(res)"
   ]
  },
  {
   "cell_type": "code",
   "execution_count": null,
   "metadata": {},
   "outputs": [],
   "source": []
  },
  {
   "cell_type": "code",
   "execution_count": null,
   "metadata": {},
   "outputs": [],
   "source": [
    "# ****************************************************\n",
    "#  Check/Open exitsting graph properties in Janusgraph\n",
    "# ****************************************************"
   ]
  },
  {
   "cell_type": "code",
   "execution_count": 5,
   "metadata": {},
   "outputs": [
    {
     "data": {
      "text/plain": [
       "(True, ['graph', 'ConfigurationManagementGraph', 'airroutes'])"
      ]
     },
     "execution_count": 5,
     "metadata": {},
     "output_type": "execute_result"
    }
   ],
   "source": [
    "#  Checking existings graph properties - ALL\n",
    "res = client.submit('JanusGraphFactory.getGraphNames()')\n",
    "CheckResult(res)"
   ]
  },
  {
   "cell_type": "code",
   "execution_count": 6,
   "metadata": {},
   "outputs": [
    {
     "data": {
      "text/plain": [
       "(True, ['airroutes'])"
      ]
     },
     "execution_count": 6,
     "metadata": {},
     "output_type": "execute_result"
    }
   ],
   "source": [
    "#  Checking existings graph properties\n",
    "res = client.submit('ConfiguredGraphFactory.getGraphNames()')\n",
    "CheckResult(res)"
   ]
  },
  {
   "cell_type": "code",
   "execution_count": 7,
   "metadata": {},
   "outputs": [
    {
     "data": {
      "text/plain": [
       "(False, ['<Future at 0x1b7b2cd4550 state=finished raised GremlinServerError>'])"
      ]
     },
     "execution_count": 7,
     "metadata": {},
     "output_type": "execute_result"
    }
   ],
   "source": [
    "# --- Open the selected existing graph property on the remote Janusgraph server: ---\n",
    "res = client.submit(\"graph = ConfiguredGraphFactory.open('airroutes')\")  # 'airrouts' is a already created graph\n",
    "CheckResult(res)       # Ignore the 'rasised GremlinServerError' message and go ahead"
   ]
  },
  {
   "cell_type": "code",
   "execution_count": null,
   "metadata": {},
   "outputs": [],
   "source": []
  },
  {
   "cell_type": "code",
   "execution_count": null,
   "metadata": {},
   "outputs": [],
   "source": [
    "# **************************************************************\n",
    "#  Test client.submit approach which simulate a gremlin console\n",
    "# **************************************************************"
   ]
  },
  {
   "cell_type": "code",
   "execution_count": 8,
   "metadata": {
    "scrolled": true
   },
   "outputs": [
    {
     "name": "stdout",
     "output_type": "stream",
     "text": [
      "FEATURES\r\n",
      "> GraphFeatures\r\n",
      ">-- Transactions: true\r\n",
      ">-- ThreadedTransactions: true\r\n",
      ">-- ConcurrentAccess: true\r\n",
      ">-- Persistence: true\r\n",
      ">-- Computer: true\r\n",
      "> VariableFeatures\r\n",
      ">-- Variables: true\r\n",
      ">-- IntegerValues: true\r\n",
      ">-- UniformListValues: false\r\n",
      ">-- FloatValues: true\r\n",
      ">-- LongArrayValues: true\r\n",
      ">-- StringValues: true\r\n",
      ">-- ByteValues: true\r\n",
      ">-- DoubleArrayValues: true\r\n",
      ">-- StringArrayValues: true\r\n",
      ">-- MixedListValues: false\r\n",
      ">-- SerializableValues: false\r\n",
      ">-- LongValues: true\r\n",
      ">-- BooleanArrayValues: true\r\n",
      ">-- MapValues: true\r\n",
      ">-- DoubleValues: true\r\n",
      ">-- ByteArrayValues: true\r\n",
      ">-- BooleanValues: true\r\n",
      ">-- FloatArrayValues: true\r\n",
      ">-- IntegerArrayValues: true\r\n",
      "> VertexFeatures\r\n",
      ">-- RemoveVertices: true\r\n",
      ">-- MultiProperties: true\r\n",
      ">-- DuplicateMultiProperties: true\r\n",
      ">-- AddVertices: true\r\n",
      ">-- MetaProperties: true\r\n",
      ">-- CustomIds: false\r\n",
      ">-- RemoveProperty: true\r\n",
      ">-- NumericIds: true\r\n",
      ">-- StringIds: false\r\n",
      ">-- AddProperty: true\r\n",
      ">-- UserSuppliedIds: false\r\n",
      ">-- AnyIds: false\r\n",
      ">-- UuidIds: false\r\n",
      "> VertexPropertyFeatures\r\n",
      ">-- CustomIds: true\r\n",
      ">-- RemoveProperty: true\r\n",
      ">-- NumericIds: false\r\n",
      ">-- StringIds: true\r\n",
      ">-- UserSuppliedIds: false\r\n",
      ">-- AnyIds: false\r\n",
      ">-- UuidIds: false\r\n",
      ">-- Properties: true\r\n",
      ">-- IntegerValues: true\r\n",
      ">-- UniformListValues: false\r\n",
      ">-- FloatValues: true\r\n",
      ">-- LongArrayValues: true\r\n",
      ">-- StringValues: true\r\n",
      ">-- ByteValues: true\r\n",
      ">-- DoubleArrayValues: true\r\n",
      ">-- StringArrayValues: true\r\n",
      ">-- MixedListValues: false\r\n",
      ">-- SerializableValues: false\r\n",
      ">-- LongValues: true\r\n",
      ">-- BooleanArrayValues: true\r\n",
      ">-- MapValues: true\r\n",
      ">-- DoubleValues: true\r\n",
      ">-- ByteArrayValues: true\r\n",
      ">-- BooleanValues: true\r\n",
      ">-- FloatArrayValues: true\r\n",
      ">-- IntegerArrayValues: true\r\n",
      "> EdgeFeatures\r\n",
      ">-- RemoveEdges: true\r\n",
      ">-- AddEdges: true\r\n",
      ">-- CustomIds: true\r\n",
      ">-- RemoveProperty: true\r\n",
      ">-- NumericIds: false\r\n",
      ">-- StringIds: false\r\n",
      ">-- AddProperty: true\r\n",
      ">-- UserSuppliedIds: false\r\n",
      ">-- AnyIds: false\r\n",
      ">-- UuidIds: false\r\n",
      "> EdgePropertyFeatures\r\n",
      ">-- Properties: true\r\n",
      ">-- IntegerValues: true\r\n",
      ">-- UniformListValues: false\r\n",
      ">-- FloatValues: true\r\n",
      ">-- LongArrayValues: true\r\n",
      ">-- StringValues: true\r\n",
      ">-- ByteValues: true\r\n",
      ">-- DoubleArrayValues: true\r\n",
      ">-- StringArrayValues: true\r\n",
      ">-- MixedListValues: false\r\n",
      ">-- SerializableValues: false\r\n",
      ">-- LongValues: true\r\n",
      ">-- BooleanArrayValues: true\r\n",
      ">-- MapValues: true\r\n",
      ">-- DoubleValues: true\r\n",
      ">-- ByteArrayValues: true\r\n",
      ">-- BooleanValues: true\r\n",
      ">-- FloatArrayValues: true\r\n",
      ">-- IntegerArrayValues: true\r\n",
      "\n"
     ]
    }
   ],
   "source": [
    "# <Test-1> --- Check graph's features ---\n",
    "res = client.submit(\"graph.features()\")\n",
    "f,r = CheckResult(res)\n",
    "if f:\n",
    "    print (r[0])"
   ]
  },
  {
   "cell_type": "code",
   "execution_count": 9,
   "metadata": {},
   "outputs": [
    {
     "data": {
      "text/plain": [
       "(False, ['<Future at 0x1b7b2cf6eb8 state=finished raised GremlinServerError>'])"
      ]
     },
     "execution_count": 9,
     "metadata": {},
     "output_type": "execute_result"
    }
   ],
   "source": [
    "# <Test-2> --- Create graph traversal object g ---\n",
    "res = client.submit(\"g = graph.traversal()\")\n",
    "CheckResult(res)    # Ignore the 'rasised GremlinServerError' message and go ahead"
   ]
  },
  {
   "cell_type": "code",
   "execution_count": 10,
   "metadata": {},
   "outputs": [
    {
     "name": "stdout",
     "output_type": "stream",
     "text": [
      "1\n",
      "[32573]\n"
     ]
    }
   ],
   "source": [
    "# <Test-3> --- Optional sample code using client method ---\n",
    "#\n",
    "# WARNING: \n",
    "#    The following codes only work with the 'air-routes.graphml' data file!\n",
    "#\n",
    "\n",
    "r =  client.submit(\"g.V().count()\").all().result()\n",
    "print (len(r))\n",
    "print (r)"
   ]
  },
  {
   "cell_type": "code",
   "execution_count": 11,
   "metadata": {},
   "outputs": [
    {
     "name": "stdout",
     "output_type": "stream",
     "text": [
      "<class 'list'>\n",
      "[v[9003032], v[17182744], v[17661976], v[35536920], v[36048920], v[8876088], v[10387512], v[3280984], v[4141144], v[7176280], v[12951640], v[45192], v[2510984], v[9797768], v[12644488], v[4608176], v[9576624], v[11047088], v[7319744], v[7975104], v[8700096], v[12124352], v[540872], v[1523912], v[1921224], v[2752712], v[10363080]]\n",
      "27 vertices\n",
      "9003032 airport\n"
     ]
    }
   ],
   "source": [
    "r1 = client.submit(\"g.V().has('city','Sydney')\").all().result()\n",
    "print (type(r1))\n",
    "print (r1)\n",
    "print (len(r1),'vertices')\n",
    "print (r1[0].id, r1[0].label)"
   ]
  },
  {
   "cell_type": "code",
   "execution_count": 12,
   "metadata": {},
   "outputs": [
    {
     "name": "stdout",
     "output_type": "stream",
     "text": [
      "18\n",
      "[v[9003032], v[17182744], v[17661976], v[35536920], v[36048920], v[8876088], v[10387512], v[4141144], v[7176280], v[12951640], v[45192], v[2510984], v[4608176], v[7319744], v[8700096], v[1523912], v[2752712], v[10363080]]\n"
     ]
    }
   ],
   "source": [
    "r2 = client.submit(\"g.V().has('city','Sydney').has('country','AU')\").all().result()\n",
    "print (len(r2))\n",
    "print (r2)"
   ]
  },
  {
   "cell_type": "code",
   "execution_count": 13,
   "metadata": {},
   "outputs": [
    {
     "name": "stdout",
     "output_type": "stream",
     "text": [
      "10\n",
      "[v[4120], v[8216], v[12312], v[16408], v[20504], v[24600], v[28696], v[32792], v[36888], v[40984]]\n"
     ]
    }
   ],
   "source": [
    "r3 = client.submit(\"g.V().range(0,10)\").all().result()\n",
    "print (len(r3))\n",
    "print (r3)"
   ]
  },
  {
   "cell_type": "code",
   "execution_count": 14,
   "metadata": {},
   "outputs": [
    {
     "name": "stdout",
     "output_type": "stream",
     "text": [
      "20\n",
      "[v[413720], v[417816], v[421912], v[426008], v[430104], v[434200], v[438296], v[442392], v[446488], v[450584], v[454680], v[458776], v[462872], v[466968], v[471064], v[475160], v[479256], v[483352], v[487448], v[491544]]\n"
     ]
    }
   ],
   "source": [
    "r4 = client.submit(\"g.V().range(100,120)\").all().result()\n",
    "print (len(r4))\n",
    "print (r4)"
   ]
  },
  {
   "cell_type": "code",
   "execution_count": null,
   "metadata": {},
   "outputs": [],
   "source": []
  },
  {
   "cell_type": "code",
   "execution_count": null,
   "metadata": {},
   "outputs": [],
   "source": [
    "# **************************************************************\n",
    "#  Test python as a gremlin language variant\n",
    "# **************************************************************"
   ]
  },
  {
   "cell_type": "code",
   "execution_count": 15,
   "metadata": {},
   "outputs": [
    {
     "name": "stdout",
     "output_type": "stream",
     "text": [
      "type of graph:  <class 'gremlin_python.structure.graph.Graph'>\n",
      "type of g:  <class 'gremlin_python.process.graph_traversal.GraphTraversalSource'>\n"
     ]
    }
   ],
   "source": [
    "# Create graph and remote graph traversal objects (g) by RemoteConnection method:\n",
    "# Take the most advantages out of Gremlin-Python\n",
    "\n",
    "# statics.load_statics(globals())\n",
    "\n",
    "graph = Graph()\n",
    "print ('type of graph: ',type(graph))\n",
    "\n",
    "# Binding local traversal object g with the remote traversal object g:\n",
    "g = graph.traversal().withRemote(\n",
    "        DriverRemoteConnection('ws://192.168.1.52:8182/gremlin', # URL of gremlin server (janusgraph application interface)\n",
    "                               'g',                              # name of traversal object\n",
    "                               username=\"\",                      # username to access Janusgraph\n",
    "                               password=\"\")                      # password to access Janusgraph \n",
    "        )\n",
    "print ('type of g: ',type(g))"
   ]
  },
  {
   "cell_type": "code",
   "execution_count": 16,
   "metadata": {},
   "outputs": [
    {
     "name": "stdout",
     "output_type": "stream",
     "text": [
      "27\n",
      "[v[9003032], v[17182744], v[17661976], v[35536920], v[36048920], v[8876088], v[10387512], v[3280984], v[4141144], v[7176280], v[12951640], v[45192], v[2510984], v[9797768], v[12644488], v[4608176], v[9576624], v[11047088], v[7319744], v[7975104], v[8700096], v[12124352], v[540872], v[1523912], v[1921224], v[2752712], v[10363080]]\n"
     ]
    }
   ],
   "source": [
    "x1 = g.V().has(\"city\",'Sydney').toList()\n",
    "print (len(x1))\n",
    "print (x1)"
   ]
  },
  {
   "cell_type": "code",
   "execution_count": 17,
   "metadata": {},
   "outputs": [
    {
     "name": "stdout",
     "output_type": "stream",
     "text": [
      "2\n",
      "[v[4232], v[4272]]\n"
     ]
    }
   ],
   "source": [
    "x2 = g.V().both()[1:3].toList()\n",
    "print (len(x2))\n",
    "print (x2)"
   ]
  },
  {
   "cell_type": "code",
   "execution_count": 18,
   "metadata": {},
   "outputs": [
    {
     "name": "stdout",
     "output_type": "stream",
     "text": [
      "9\n",
      "[v[8216], v[12312], v[16408], v[20504], v[24600], v[28696], v[32792], v[36888], v[40984]]\n"
     ]
    }
   ],
   "source": [
    "x3 = g.V().range(1,10).toList()\n",
    "print (len(x3))\n",
    "print (x3)"
   ]
  },
  {
   "cell_type": "code",
   "execution_count": 19,
   "metadata": {},
   "outputs": [
    {
     "name": "stdout",
     "output_type": "stream",
     "text": [
      "9\n",
      "[v[8216], v[12312], v[16408], v[20504], v[24600], v[28696], v[32792], v[36888], v[40984]]\n"
     ]
    }
   ],
   "source": [
    "x4 = g.V(x3).toList()\n",
    "print (len(x4))\n",
    "print (x4)"
   ]
  },
  {
   "cell_type": "code",
   "execution_count": 20,
   "metadata": {},
   "outputs": [
    {
     "name": "stdout",
     "output_type": "stream",
     "text": [
      "9\n",
      "[8216, 12312, 16408, 20504, 24600, 28696, 32792, 36888, 40984]\n"
     ]
    }
   ],
   "source": [
    "x5 = g.V(x3).id().toList()\n",
    "print (len(x5))\n",
    "print (x5)"
   ]
  },
  {
   "cell_type": "code",
   "execution_count": 21,
   "metadata": {},
   "outputs": [
    {
     "data": {
      "text/plain": [
       "[v[4120],\n",
       " v[8216],\n",
       " v[12312],\n",
       " v[16408],\n",
       " v[20504],\n",
       " v[24600],\n",
       " v[28696],\n",
       " v[32792],\n",
       " v[36888],\n",
       " v[40984]]"
      ]
     },
     "execution_count": 21,
     "metadata": {},
     "output_type": "execute_result"
    }
   ],
   "source": [
    "g.V().range(0,10).toList()"
   ]
  },
  {
   "cell_type": "code",
   "execution_count": null,
   "metadata": {},
   "outputs": [],
   "source": []
  },
  {
   "cell_type": "code",
   "execution_count": null,
   "metadata": {},
   "outputs": [],
   "source": []
  },
  {
   "cell_type": "code",
   "execution_count": null,
   "metadata": {},
   "outputs": [],
   "source": []
  },
  {
   "cell_type": "code",
   "execution_count": 22,
   "metadata": {},
   "outputs": [],
   "source": [
    "# Done and close the client\n",
    "client.close()"
   ]
  },
  {
   "cell_type": "code",
   "execution_count": null,
   "metadata": {},
   "outputs": [],
   "source": []
  }
 ],
 "metadata": {
  "kernelspec": {
   "display_name": "Python 3",
   "language": "python",
   "name": "python3"
  },
  "language_info": {
   "codemirror_mode": {
    "name": "ipython",
    "version": 3
   },
   "file_extension": ".py",
   "mimetype": "text/x-python",
   "name": "python",
   "nbconvert_exporter": "python",
   "pygments_lexer": "ipython3",
   "version": "3.6.4"
  }
 },
 "nbformat": 4,
 "nbformat_minor": 2
}
