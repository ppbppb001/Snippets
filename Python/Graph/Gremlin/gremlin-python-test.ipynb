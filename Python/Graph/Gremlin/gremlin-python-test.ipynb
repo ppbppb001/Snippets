{
 "cells": [
  {
   "cell_type": "code",
   "execution_count": 1,
   "metadata": {},
   "outputs": [],
   "source": [
    "import time\n",
    "\n",
    "# --- Import Gremlin-Python modules ---\n",
    "import gremlin_python\n",
    "import gremlin_python.driver.serializer as se\n",
    "from gremlin_python.driver.driver_remote_connection import DriverRemoteConnection\n",
    "from gremlin_python.driver.client import Client\n",
    "from gremlin_python.driver.serializer import GraphSONSerializersV2d0\n",
    "from gremlin_python import statics\n",
    "from gremlin_python.structure.graph import Graph\n",
    "from gremlin_python.process.anonymous_traversal import traversal\n",
    "from gremlin_python.process.graph_traversal import __\n",
    "from gremlin_python.process.strategies import *\n",
    "from gremlin_python.process.traversal import T\n",
    "from gremlin_python.process.traversal import Order\n",
    "from gremlin_python.process.traversal import Cardinality\n",
    "from gremlin_python.process.traversal import Column\n",
    "from gremlin_python.process.traversal import Direction\n",
    "from gremlin_python.process.traversal import Operator\n",
    "from gremlin_python.process.traversal import P\n",
    "from gremlin_python.process.traversal import Pop\n",
    "from gremlin_python.process.traversal import Scope\n",
    "from gremlin_python.process.traversal import Barrier\n",
    "from gremlin_python.process.traversal import Bindings\n",
    "from gremlin_python.process.traversal import WithOptions\n",
    "# ---------------------------------------"
   ]
  },
  {
   "cell_type": "code",
   "execution_count": 2,
   "metadata": {},
   "outputs": [],
   "source": [
    "# Function: check response message from gremlin server\n",
    "# return: (flag, result_list).\n",
    "#          if successed, flag == True and result_list holds the message/data if available.\n",
    "#          if failed, flag == False and result_list holds the raised error message.\n",
    "def CheckResult(result):\n",
    "    if result is not None:\n",
    "        i = 0\n",
    "        while result.done.running():\n",
    "            time.sleep(0.1)\n",
    "            i +=1\n",
    "#             print (i)\n",
    "            if i>300:\n",
    "                break\n",
    "\n",
    "        a = result.all()\n",
    "        s = str(a)\n",
    "        ss= s.lower()\n",
    "        if 'finished' in ss:\n",
    "            if 'error' in ss:\n",
    "                return False, [s]\n",
    "            else:\n",
    "                return True, a.result()\n",
    "        else:\n",
    "            return False, [s]\n",
    "    else:\n",
    "        return False, []"
   ]
  },
  {
   "cell_type": "code",
   "execution_count": null,
   "metadata": {},
   "outputs": [],
   "source": [
    "# ****************************************************\n",
    "#  Connect to gremlin server\n",
    "# ****************************************************"
   ]
  },
  {
   "cell_type": "code",
   "execution_count": 3,
   "metadata": {},
   "outputs": [
    {
     "name": "stdout",
     "output_type": "stream",
     "text": [
      "<gremlin_python.driver.client.Client object at 0x0000023BF45175F8>\n"
     ]
    }
   ],
   "source": [
    "# --- Create client to do low-level operations with gremlin server ---\n",
    "client = Client(\"ws://192.168.1.52:8182/gremlin\",    # URL of gremlin server (janusgraph application interface)\n",
    "                \"g\",                                 # name of traversal object\n",
    "                username=\"\",                         # username to access Janusgraph\n",
    "                password=\"\")                         # password to access Janusgraph\n",
    "print (client)"
   ]
  },
  {
   "cell_type": "code",
   "execution_count": 4,
   "metadata": {},
   "outputs": [
    {
     "name": "stdout",
     "output_type": "stream",
     "text": [
      "True\n",
      "Version of gremlin server is  ['3.3.3']\n"
     ]
    }
   ],
   "source": [
    "res = client.submit('Gremlin.version()')\n",
    "f,x = CheckResult(res)\n",
    "print (f)\n",
    "print ('Version of gremlin server is ',x)"
   ]
  },
  {
   "cell_type": "code",
   "execution_count": null,
   "metadata": {},
   "outputs": [],
   "source": []
  },
  {
   "cell_type": "code",
   "execution_count": null,
   "metadata": {},
   "outputs": [],
   "source": [
    "# ****************************************************\n",
    "#  Create a new graph property with Janusgraph\n",
    "# ****************************************************"
   ]
  },
  {
   "cell_type": "code",
   "execution_count": 5,
   "metadata": {},
   "outputs": [
    {
     "data": {
      "text/plain": [
       "(False, ['<Future at 0x23bf45f5f98 state=finished raised GremlinServerError>'])"
      ]
     },
     "execution_count": 5,
     "metadata": {},
     "output_type": "execute_result"
    }
   ],
   "source": [
    "# --- Create graph on the remote gremlin server: ---\n",
    "# res = client.submit(\"graph = TinkerGraph.open()\")\n",
    "res = client.submit(\"graph = JanusGraphFactory.open('inmemory')\")\n",
    "CheckResult(res)     # Ignore the 'rasised GremlinServerError' message and go ahead"
   ]
  },
  {
   "cell_type": "code",
   "execution_count": 6,
   "metadata": {},
   "outputs": [
    {
     "data": {
      "text/plain": [
       "(True, [None])"
      ]
     },
     "execution_count": 6,
     "metadata": {},
     "output_type": "execute_result"
    }
   ],
   "source": [
    "# --- launch an operation of loading graphml data file on remote server: ---\n",
    "res = client.submit(\"graph.io(graphml()).readGraph('c:/datatools/~test/air-routes.graphml')\")\n",
    "CheckResult(res)"
   ]
  },
  {
   "cell_type": "code",
   "execution_count": null,
   "metadata": {},
   "outputs": [],
   "source": []
  },
  {
   "cell_type": "code",
   "execution_count": null,
   "metadata": {},
   "outputs": [],
   "source": [
    "# ****************************************************\n",
    "#  Check/Open exitsting graph properties in Janusgraph\n",
    "# ****************************************************"
   ]
  },
  {
   "cell_type": "code",
   "execution_count": 7,
   "metadata": {},
   "outputs": [
    {
     "data": {
      "text/plain": [
       "(False, ['<Future at 0x23bf45f9b70 state=finished raised GremlinServerError>'])"
      ]
     },
     "execution_count": 7,
     "metadata": {},
     "output_type": "execute_result"
    }
   ],
   "source": [
    "# <Method-1 of checking existings>\n",
    "res = client.submit('ConfiguredGraphFactory.getGraphNames()')\n",
    "CheckResult(res)"
   ]
  },
  {
   "cell_type": "code",
   "execution_count": 8,
   "metadata": {},
   "outputs": [
    {
     "data": {
      "text/plain": [
       "(False, ['<Future at 0x23bf4617e10 state=finished raised GremlinServerError>'])"
      ]
     },
     "execution_count": 8,
     "metadata": {},
     "output_type": "execute_result"
    }
   ],
   "source": [
    "# <Method-2 of checking existings>\n",
    "res = client.submit('ConfiguredGraphFactory.graphNames')\n",
    "CheckResult(res)"
   ]
  },
  {
   "cell_type": "code",
   "execution_count": 9,
   "metadata": {},
   "outputs": [
    {
     "data": {
      "text/plain": [
       "(False, ['<Future at 0x23bf46171d0 state=finished raised GremlinServerError>'])"
      ]
     },
     "execution_count": 9,
     "metadata": {},
     "output_type": "execute_result"
    }
   ],
   "source": [
    "# --- Open the selected existing graph property on the remote Janusgraph server: ---\n",
    "res = client.submit('graph = ConfiguredGraphFactory.open(\"SomeGraph\")')\n",
    "CheckResult(res)"
   ]
  },
  {
   "cell_type": "code",
   "execution_count": null,
   "metadata": {},
   "outputs": [],
   "source": []
  },
  {
   "cell_type": "code",
   "execution_count": null,
   "metadata": {},
   "outputs": [],
   "source": [
    "# **************************************************************\n",
    "#  Test client.submit approach which simulate a gremlin console\n",
    "# **************************************************************"
   ]
  },
  {
   "cell_type": "code",
   "execution_count": 10,
   "metadata": {
    "scrolled": true
   },
   "outputs": [
    {
     "name": "stdout",
     "output_type": "stream",
     "text": [
      "FEATURES\r\n",
      "> GraphFeatures\r\n",
      ">-- Transactions: true\r\n",
      ">-- Computer: true\r\n",
      ">-- Persistence: true\r\n",
      ">-- ThreadedTransactions: true\r\n",
      ">-- ConcurrentAccess: true\r\n",
      "> VariableFeatures\r\n",
      ">-- Variables: true\r\n",
      ">-- MixedListValues: false\r\n",
      ">-- UniformListValues: false\r\n",
      ">-- MapValues: true\r\n",
      ">-- SerializableValues: false\r\n",
      ">-- IntegerValues: true\r\n",
      ">-- LongValues: true\r\n",
      ">-- ByteValues: true\r\n",
      ">-- StringArrayValues: true\r\n",
      ">-- ByteArrayValues: true\r\n",
      ">-- BooleanValues: true\r\n",
      ">-- DoubleValues: true\r\n",
      ">-- DoubleArrayValues: true\r\n",
      ">-- LongArrayValues: true\r\n",
      ">-- StringValues: true\r\n",
      ">-- BooleanArrayValues: true\r\n",
      ">-- FloatValues: true\r\n",
      ">-- FloatArrayValues: true\r\n",
      ">-- IntegerArrayValues: true\r\n",
      "> VertexFeatures\r\n",
      ">-- MetaProperties: true\r\n",
      ">-- AddVertices: true\r\n",
      ">-- RemoveVertices: true\r\n",
      ">-- MultiProperties: true\r\n",
      ">-- DuplicateMultiProperties: true\r\n",
      ">-- UserSuppliedIds: false\r\n",
      ">-- NumericIds: true\r\n",
      ">-- StringIds: false\r\n",
      ">-- AddProperty: true\r\n",
      ">-- RemoveProperty: true\r\n",
      ">-- CustomIds: false\r\n",
      ">-- UuidIds: false\r\n",
      ">-- AnyIds: false\r\n",
      "> VertexPropertyFeatures\r\n",
      ">-- UserSuppliedIds: false\r\n",
      ">-- NumericIds: false\r\n",
      ">-- StringIds: true\r\n",
      ">-- RemoveProperty: true\r\n",
      ">-- CustomIds: true\r\n",
      ">-- UuidIds: false\r\n",
      ">-- AnyIds: false\r\n",
      ">-- Properties: true\r\n",
      ">-- MixedListValues: false\r\n",
      ">-- UniformListValues: false\r\n",
      ">-- MapValues: true\r\n",
      ">-- SerializableValues: false\r\n",
      ">-- IntegerValues: true\r\n",
      ">-- LongValues: true\r\n",
      ">-- ByteValues: true\r\n",
      ">-- StringArrayValues: true\r\n",
      ">-- ByteArrayValues: true\r\n",
      ">-- BooleanValues: true\r\n",
      ">-- DoubleValues: true\r\n",
      ">-- DoubleArrayValues: true\r\n",
      ">-- LongArrayValues: true\r\n",
      ">-- StringValues: true\r\n",
      ">-- BooleanArrayValues: true\r\n",
      ">-- FloatValues: true\r\n",
      ">-- FloatArrayValues: true\r\n",
      ">-- IntegerArrayValues: true\r\n",
      "> EdgeFeatures\r\n",
      ">-- AddEdges: true\r\n",
      ">-- RemoveEdges: true\r\n",
      ">-- UserSuppliedIds: false\r\n",
      ">-- NumericIds: false\r\n",
      ">-- StringIds: false\r\n",
      ">-- AddProperty: true\r\n",
      ">-- RemoveProperty: true\r\n",
      ">-- CustomIds: true\r\n",
      ">-- UuidIds: false\r\n",
      ">-- AnyIds: false\r\n",
      "> EdgePropertyFeatures\r\n",
      ">-- Properties: true\r\n",
      ">-- MixedListValues: false\r\n",
      ">-- UniformListValues: false\r\n",
      ">-- MapValues: true\r\n",
      ">-- SerializableValues: false\r\n",
      ">-- IntegerValues: true\r\n",
      ">-- LongValues: true\r\n",
      ">-- ByteValues: true\r\n",
      ">-- StringArrayValues: true\r\n",
      ">-- ByteArrayValues: true\r\n",
      ">-- BooleanValues: true\r\n",
      ">-- DoubleValues: true\r\n",
      ">-- DoubleArrayValues: true\r\n",
      ">-- LongArrayValues: true\r\n",
      ">-- StringValues: true\r\n",
      ">-- BooleanArrayValues: true\r\n",
      ">-- FloatValues: true\r\n",
      ">-- FloatArrayValues: true\r\n",
      ">-- IntegerArrayValues: true\r\n",
      "\n"
     ]
    }
   ],
   "source": [
    "# <Test-1> --- Check graph's features ---\n",
    "res = client.submit(\"graph.features()\")\n",
    "f,r = CheckResult(res)\n",
    "if f:\n",
    "    print (r[0])"
   ]
  },
  {
   "cell_type": "code",
   "execution_count": 11,
   "metadata": {},
   "outputs": [
    {
     "data": {
      "text/plain": [
       "(False, ['<Future at 0x23bf4629630 state=finished raised GremlinServerError>'])"
      ]
     },
     "execution_count": 11,
     "metadata": {},
     "output_type": "execute_result"
    }
   ],
   "source": [
    "# <Test-2> --- Create graph traversal object g ---\n",
    "res = client.submit(\"g = graph.traversal()\")\n",
    "CheckResult(res)    # Ignore the 'rasised GremlinServerError' message and go ahead"
   ]
  },
  {
   "cell_type": "code",
   "execution_count": 12,
   "metadata": {},
   "outputs": [
    {
     "name": "stdout",
     "output_type": "stream",
     "text": [
      "<class 'list'>\n",
      "[v[1343504], v[6418448], v[10350608], v[10911760], v[4247576], v[5713944], v[11829272], v[2875424], v[5152800], v[9494560], v[487464], v[14458920], v[3039296], v[12439616], v[1536088], v[9113688], v[13619288], v[5681248], v[8495200], v[1880256], v[7413952], v[7852224], v[12996800], v[45256], v[3412168], v[7323848], v[14049480], v[4264152], v[10354904], v[11784408]]\n",
      "30 vertices\n",
      "1343504 airport\n"
     ]
    }
   ],
   "source": [
    "# <Test-3> --- Optional sample code using client method ---\n",
    "#\n",
    "# WARNING: \n",
    "#    The following codes only work with the 'air-routes.graphml' data file!\n",
    "#\n",
    "r1 = client.submit(\"g.V().has('city','Sydney')\").all().result()\n",
    "print (type(r1))\n",
    "print (r1)\n",
    "print (len(r1),'vertices')\n",
    "print (r1[0].id, r1[0].label)"
   ]
  },
  {
   "cell_type": "code",
   "execution_count": 13,
   "metadata": {},
   "outputs": [
    {
     "name": "stdout",
     "output_type": "stream",
     "text": [
      "20\n",
      "[v[1343504], v[10350608], v[4247576], v[5713944], v[11829272], v[2875424], v[14458920], v[3039296], v[1536088], v[9113688], v[13619288], v[5681248], v[8495200], v[7413952], v[12996800], v[45256], v[7323848], v[4264152], v[10354904], v[11784408]]\n"
     ]
    }
   ],
   "source": [
    "r2 = client.submit(\"g.V().has('city','Sydney').has('country','AU')\").all().result()\n",
    "print (len(r2))\n",
    "print (r2)"
   ]
  },
  {
   "cell_type": "code",
   "execution_count": 14,
   "metadata": {},
   "outputs": [
    {
     "name": "stdout",
     "output_type": "stream",
     "text": [
      "9\n",
      "[v[8208], v[12304], v[16400], v[20496], v[24592], v[28688], v[32784], v[36880], v[40976]]\n"
     ]
    }
   ],
   "source": [
    "r3 = client.submit(\"g.V().range(1,10)\").all().result()\n",
    "print (len(r3))\n",
    "print (r3)"
   ]
  },
  {
   "cell_type": "code",
   "execution_count": 15,
   "metadata": {},
   "outputs": [
    {
     "name": "stdout",
     "output_type": "stream",
     "text": [
      "20\n",
      "[v[413712], v[417808], v[421904], v[426000], v[430096], v[434192], v[438288], v[442384], v[446480], v[450576], v[454672], v[458768], v[462864], v[466960], v[471056], v[475152], v[479248], v[483344], v[487440], v[491536]]\n"
     ]
    }
   ],
   "source": [
    "r4 = client.submit(\"g.V().range(100,120)\").all().result()\n",
    "print (len(r4))\n",
    "print (r4)"
   ]
  },
  {
   "cell_type": "code",
   "execution_count": 16,
   "metadata": {},
   "outputs": [],
   "source": [
    "# Close the client when having everything done.\n",
    "client.close()"
   ]
  },
  {
   "cell_type": "code",
   "execution_count": null,
   "metadata": {},
   "outputs": [],
   "source": []
  },
  {
   "cell_type": "code",
   "execution_count": null,
   "metadata": {},
   "outputs": [],
   "source": [
    "# **************************************************************\n",
    "#  Test python as a gremlin language variant\n",
    "# **************************************************************"
   ]
  },
  {
   "cell_type": "code",
   "execution_count": 17,
   "metadata": {},
   "outputs": [
    {
     "name": "stdout",
     "output_type": "stream",
     "text": [
      "type of graph:  <class 'gremlin_python.structure.graph.Graph'>\n",
      "type of g:  <class 'gremlin_python.process.graph_traversal.GraphTraversalSource'>\n"
     ]
    }
   ],
   "source": [
    "# Create graph and remote graph traversal objects (g) by RemoteConnection method:\n",
    "# Take the most advantages out of Gremlin-Python\n",
    "\n",
    "# statics.load_statics(globals())\n",
    "\n",
    "graph = Graph()\n",
    "print ('type of graph: ',type(graph))\n",
    "\n",
    "# Binding local traversal object g with the remote traversal object g:\n",
    "g = graph.traversal().withRemote(\n",
    "        DriverRemoteConnection('ws://192.168.1.52:8182/gremlin', # URL of gremlin server (janusgraph application interface)\n",
    "                               'g',                              # name of traversal object\n",
    "                               username=\"\",                      # username to access Janusgraph\n",
    "                               password=\"\")                      # password to access Janusgraph \n",
    "        )\n",
    "print ('type of g: ',type(g))"
   ]
  },
  {
   "cell_type": "code",
   "execution_count": 18,
   "metadata": {},
   "outputs": [
    {
     "name": "stdout",
     "output_type": "stream",
     "text": [
      "30\n",
      "[v[1343504], v[6418448], v[10350608], v[10911760], v[4247576], v[5713944], v[11829272], v[2875424], v[5152800], v[9494560], v[487464], v[14458920], v[3039296], v[12439616], v[1536088], v[9113688], v[13619288], v[5681248], v[8495200], v[1880256], v[7413952], v[7852224], v[12996800], v[45256], v[3412168], v[7323848], v[14049480], v[4264152], v[10354904], v[11784408]]\n"
     ]
    }
   ],
   "source": [
    "x1 = g.V().has(\"city\",'Sydney').toList()\n",
    "print (len(x1))\n",
    "print (x1)"
   ]
  },
  {
   "cell_type": "code",
   "execution_count": 19,
   "metadata": {},
   "outputs": [
    {
     "name": "stdout",
     "output_type": "stream",
     "text": [
      "2\n",
      "[v[4160], v[4184]]\n"
     ]
    }
   ],
   "source": [
    "x2 = g.V().both()[1:3].toList()\n",
    "print (len(x2))\n",
    "print (x2)"
   ]
  },
  {
   "cell_type": "code",
   "execution_count": 20,
   "metadata": {},
   "outputs": [
    {
     "name": "stdout",
     "output_type": "stream",
     "text": [
      "9\n",
      "[v[8208], v[12304], v[16400], v[20496], v[24592], v[28688], v[32784], v[36880], v[40976]]\n"
     ]
    }
   ],
   "source": [
    "x3 = g.V().range(1,10).toList()\n",
    "print (len(x3))\n",
    "print (x3)"
   ]
  },
  {
   "cell_type": "code",
   "execution_count": 21,
   "metadata": {},
   "outputs": [
    {
     "name": "stdout",
     "output_type": "stream",
     "text": [
      "9\n",
      "[v[8208], v[12304], v[16400], v[20496], v[24592], v[28688], v[32784], v[36880], v[40976]]\n"
     ]
    }
   ],
   "source": [
    "x4 = g.V(x3).toList()\n",
    "print (len(x4))\n",
    "print (x4)"
   ]
  },
  {
   "cell_type": "code",
   "execution_count": 22,
   "metadata": {},
   "outputs": [
    {
     "name": "stdout",
     "output_type": "stream",
     "text": [
      "9\n",
      "[8208, 12304, 16400, 20496, 24592, 28688, 32784, 36880, 40976]\n"
     ]
    }
   ],
   "source": [
    "x5 = g.V(x3).id().toList()\n",
    "print (len(x5))\n",
    "print (x5)"
   ]
  },
  {
   "cell_type": "code",
   "execution_count": null,
   "metadata": {},
   "outputs": [],
   "source": []
  },
  {
   "cell_type": "code",
   "execution_count": null,
   "metadata": {},
   "outputs": [],
   "source": []
  }
 ],
 "metadata": {
  "kernelspec": {
   "display_name": "Python 3",
   "language": "python",
   "name": "python3"
  },
  "language_info": {
   "codemirror_mode": {
    "name": "ipython",
    "version": 3
   },
   "file_extension": ".py",
   "mimetype": "text/x-python",
   "name": "python",
   "nbconvert_exporter": "python",
   "pygments_lexer": "ipython3",
   "version": "3.6.4"
  }
 },
 "nbformat": 4,
 "nbformat_minor": 2
}
