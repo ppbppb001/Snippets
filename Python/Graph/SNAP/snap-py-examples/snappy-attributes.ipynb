{
 "cells": [
  {
   "cell_type": "code",
   "execution_count": 1,
   "metadata": {},
   "outputs": [],
   "source": [
    "import snap"
   ]
  },
  {
   "cell_type": "code",
   "execution_count": 2,
   "metadata": {},
   "outputs": [],
   "source": [
    "nodes = 10\n",
    "G = snap.GenFull(snap.PNEANet,nodes)"
   ]
  },
  {
   "cell_type": "code",
   "execution_count": 3,
   "metadata": {},
   "outputs": [
    {
     "data": {
      "text/plain": [
       "0"
      ]
     },
     "execution_count": 3,
     "metadata": {},
     "output_type": "execute_result"
    }
   ],
   "source": [
    "# define int, float and str attributes on nodes\n",
    "G.AddIntAttrN(b\"NValInt\", 0)\n",
    "G.AddFltAttrN(b\"NValFlt\", 0.0)\n",
    "G.AddStrAttrN(b\"NValStr\", b\"0\")"
   ]
  },
  {
   "cell_type": "code",
   "execution_count": 4,
   "metadata": {},
   "outputs": [
    {
     "data": {
      "text/plain": [
       "0"
      ]
     },
     "execution_count": 4,
     "metadata": {},
     "output_type": "execute_result"
    }
   ],
   "source": [
    "# define an int attribute on edges\n",
    "G.AddIntAttrE(b\"EValInt\", 0)"
   ]
  },
  {
   "cell_type": "code",
   "execution_count": 5,
   "metadata": {},
   "outputs": [],
   "source": [
    "# add attribute values, node ID for nodes, edge ID for edges\n",
    "\n",
    "for NI in G.Nodes():\n",
    "    nid = NI.GetId()\n",
    "    val = nid\n",
    "    G.AddIntAttrDatN(nid, val, b\"NValInt\")\n",
    "    G.AddFltAttrDatN(nid, float(val), b\"NValFlt\")\n",
    "    G.AddStrAttrDatN(nid, bytes(str(val),'utf-8'), b\"NValStr\")\n",
    "\n",
    "    for nid1 in NI.GetOutEdges():\n",
    "        eid = G.GetEId(nid,nid1)\n",
    "        val = eid\n",
    "        G.AddIntAttrDatE(eid, val, b\"EValInt\")"
   ]
  },
  {
   "cell_type": "code",
   "execution_count": 6,
   "metadata": {},
   "outputs": [
    {
     "name": "stdout",
     "output_type": "stream",
     "text": [
      "node 0, NValInt 0, NValFlt 0.00, NValStr 0\n",
      "edge 0 (0,1), EValInt 0\n",
      "edge 1 (0,2), EValInt 1\n",
      "edge 2 (0,3), EValInt 2\n",
      "edge 3 (0,4), EValInt 3\n",
      "edge 4 (0,5), EValInt 4\n",
      "edge 5 (0,6), EValInt 5\n",
      "edge 6 (0,7), EValInt 6\n",
      "edge 7 (0,8), EValInt 7\n",
      "edge 8 (0,9), EValInt 8\n",
      "node 1, NValInt 1, NValFlt 1.00, NValStr 1\n",
      "edge 9 (1,0), EValInt 9\n",
      "edge 10 (1,2), EValInt 10\n",
      "edge 11 (1,3), EValInt 11\n",
      "edge 12 (1,4), EValInt 12\n",
      "edge 13 (1,5), EValInt 13\n",
      "edge 14 (1,6), EValInt 14\n",
      "edge 15 (1,7), EValInt 15\n",
      "edge 16 (1,8), EValInt 16\n",
      "edge 17 (1,9), EValInt 17\n",
      "node 2, NValInt 2, NValFlt 2.00, NValStr 2\n",
      "edge 18 (2,0), EValInt 18\n",
      "edge 19 (2,1), EValInt 19\n",
      "edge 20 (2,3), EValInt 20\n",
      "edge 21 (2,4), EValInt 21\n",
      "edge 22 (2,5), EValInt 22\n",
      "edge 23 (2,6), EValInt 23\n",
      "edge 24 (2,7), EValInt 24\n",
      "edge 25 (2,8), EValInt 25\n",
      "edge 26 (2,9), EValInt 26\n",
      "node 3, NValInt 3, NValFlt 3.00, NValStr 3\n",
      "edge 27 (3,0), EValInt 27\n",
      "edge 28 (3,1), EValInt 28\n",
      "edge 29 (3,2), EValInt 29\n",
      "edge 30 (3,4), EValInt 30\n",
      "edge 31 (3,5), EValInt 31\n",
      "edge 32 (3,6), EValInt 32\n",
      "edge 33 (3,7), EValInt 33\n",
      "edge 34 (3,8), EValInt 34\n",
      "edge 35 (3,9), EValInt 35\n",
      "node 4, NValInt 4, NValFlt 4.00, NValStr 4\n",
      "edge 36 (4,0), EValInt 36\n",
      "edge 37 (4,1), EValInt 37\n",
      "edge 38 (4,2), EValInt 38\n",
      "edge 39 (4,3), EValInt 39\n",
      "edge 40 (4,5), EValInt 40\n",
      "edge 41 (4,6), EValInt 41\n",
      "edge 42 (4,7), EValInt 42\n",
      "edge 43 (4,8), EValInt 43\n",
      "edge 44 (4,9), EValInt 44\n",
      "node 5, NValInt 5, NValFlt 5.00, NValStr 5\n",
      "edge 45 (5,0), EValInt 45\n",
      "edge 46 (5,1), EValInt 46\n",
      "edge 47 (5,2), EValInt 47\n",
      "edge 48 (5,3), EValInt 48\n",
      "edge 49 (5,4), EValInt 49\n",
      "edge 50 (5,6), EValInt 50\n",
      "edge 51 (5,7), EValInt 51\n",
      "edge 52 (5,8), EValInt 52\n",
      "edge 53 (5,9), EValInt 53\n",
      "node 6, NValInt 6, NValFlt 6.00, NValStr 6\n",
      "edge 54 (6,0), EValInt 54\n",
      "edge 55 (6,1), EValInt 55\n",
      "edge 56 (6,2), EValInt 56\n",
      "edge 57 (6,3), EValInt 57\n",
      "edge 58 (6,4), EValInt 58\n",
      "edge 59 (6,5), EValInt 59\n",
      "edge 60 (6,7), EValInt 60\n",
      "edge 61 (6,8), EValInt 61\n",
      "edge 62 (6,9), EValInt 62\n",
      "node 7, NValInt 7, NValFlt 7.00, NValStr 7\n",
      "edge 63 (7,0), EValInt 63\n",
      "edge 64 (7,1), EValInt 64\n",
      "edge 65 (7,2), EValInt 65\n",
      "edge 66 (7,3), EValInt 66\n",
      "edge 67 (7,4), EValInt 67\n",
      "edge 68 (7,5), EValInt 68\n",
      "edge 69 (7,6), EValInt 69\n",
      "edge 70 (7,8), EValInt 70\n",
      "edge 71 (7,9), EValInt 71\n",
      "node 8, NValInt 8, NValFlt 8.00, NValStr 8\n",
      "edge 72 (8,0), EValInt 72\n",
      "edge 73 (8,1), EValInt 73\n",
      "edge 74 (8,2), EValInt 74\n",
      "edge 75 (8,3), EValInt 75\n",
      "edge 76 (8,4), EValInt 76\n",
      "edge 77 (8,5), EValInt 77\n",
      "edge 78 (8,6), EValInt 78\n",
      "edge 79 (8,7), EValInt 79\n",
      "edge 80 (8,9), EValInt 80\n",
      "node 9, NValInt 9, NValFlt 9.00, NValStr 9\n",
      "edge 81 (9,0), EValInt 81\n",
      "edge 82 (9,1), EValInt 82\n",
      "edge 83 (9,2), EValInt 83\n",
      "edge 84 (9,3), EValInt 84\n",
      "edge 85 (9,4), EValInt 85\n",
      "edge 86 (9,5), EValInt 86\n",
      "edge 87 (9,6), EValInt 87\n",
      "edge 88 (9,7), EValInt 88\n",
      "edge 89 (9,8), EValInt 89\n"
     ]
    }
   ],
   "source": [
    "# print out attribute values\n",
    "\n",
    "for NI in G.Nodes():\n",
    "    nid = NI.GetId()\n",
    "    ival = G.GetIntAttrDatN(nid, b\"NValInt\")\n",
    "    fval = G.GetFltAttrDatN(nid, b\"NValFlt\")\n",
    "    sval = G.GetStrAttrDatN(nid, b\"NValStr\")\n",
    "    print (\"node %d, NValInt %d, NValFlt %.2f, NValStr %s\" % (nid, ival, fval, sval))\n",
    "\n",
    "    for nid1 in NI.GetOutEdges():\n",
    "        eid = G.GetEId(nid, nid1)\n",
    "        val = G.GetIntAttrDatE(eid, b\"EValInt\")\n",
    "        print (\"edge %d (%d,%d), EValInt %d\" % (eid, nid, nid1, val))\n"
   ]
  },
  {
   "cell_type": "code",
   "execution_count": null,
   "metadata": {},
   "outputs": [],
   "source": []
  },
  {
   "cell_type": "code",
   "execution_count": null,
   "metadata": {},
   "outputs": [],
   "source": []
  }
 ],
 "metadata": {
  "kernelspec": {
   "display_name": "Python 3",
   "language": "python",
   "name": "python3"
  },
  "language_info": {
   "codemirror_mode": {
    "name": "ipython",
    "version": 3
   },
   "file_extension": ".py",
   "mimetype": "text/x-python",
   "name": "python",
   "nbconvert_exporter": "python",
   "pygments_lexer": "ipython3",
   "version": "3.6.4"
  }
 },
 "nbformat": 4,
 "nbformat_minor": 2
}
